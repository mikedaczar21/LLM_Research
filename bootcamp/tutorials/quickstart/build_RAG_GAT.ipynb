{
  "cells": [
    {
      "cell_type": "markdown",
      "metadata": {
        "id": "view-in-github",
        "colab_type": "text"
      },
      "source": [
        "<a href=\"https://colab.research.google.com/github/mikedaczar21/LLM_Research/blob/main/bootcamp/tutorials/quickstart/build_RAG_GAT.ipynb\" target=\"_parent\"><img src=\"https://colab.research.google.com/assets/colab-badge.svg\" alt=\"Open In Colab\"/></a>"
      ]
    },
    {
      "cell_type": "markdown",
      "metadata": {
        "collapsed": false,
        "jupyter": {
          "outputs_hidden": false
        },
        "id": "SyYKW-GCLM2H"
      },
      "source": [
        "<a href=\"https://colab.research.google.com/github/milvus-io/bootcamp/blob/master/bootcamp/tutorials/quickstart/build_RAG_with_milvus.ipynb\" target=\"_parent\"><img src=\"https://colab.research.google.com/assets/colab-badge.svg\" alt=\"Open In Colab\"/></a>   <a href=\"https://github.com/milvus-io/bootcamp/blob/master/bootcamp/tutorials/quickstart/build_RAG_with_milvus.ipynb\" target=\"_blank\">\n",
        "    <img src=\"https://img.shields.io/badge/View%20on%20GitHub-555555?style=flat&logo=github&logoColor=white\" alt=\"GitHub Repository\"/>"
      ]
    },
    {
      "cell_type": "markdown",
      "metadata": {
        "id": "JZFta4m3LM2P"
      },
      "source": [
        "# Build RAG with Milvus\n",
        "\n",
        "<img src=\"https://raw.githubusercontent.com/milvus-io/bootcamp/master/bootcamp/tutorials/quickstart/apps/rag_search_with_milvus/pics/rag_demo.png\"/>\n",
        "\n",
        "In this tutorial, we will show you how to build a RAG(Retrieval-Augmented Generation) pipeline with Milvus.\n",
        "\n",
        "The RAG system combines a retrieval system with a generative model to generate new text based on a given prompt. The system first retrieves relevant documents from a corpus using Milvus, and then uses a generative model to generate new text based on the retrieved documents.\n",
        "\n",
        "\n",
        "## Preparation\n",
        "### Dependencies and Environment"
      ]
    },
    {
      "cell_type": "markdown",
      "source": [],
      "metadata": {
        "id": "I2UyNwiGHFe5"
      }
    },
    {
      "cell_type": "code",
      "source": [
        "!pip install networkx torch_geometric scikit-learn pandas numpy matplotlib captum"
      ],
      "metadata": {
        "id": "T1EM-bbMHFOj"
      },
      "execution_count": null,
      "outputs": []
    },
    {
      "cell_type": "code",
      "execution_count": null,
      "metadata": {
        "vscode": {
          "languageId": "shellscript"
        },
        "id": "bzcswEwpLM2R"
      },
      "outputs": [],
      "source": [
        "! pip install --upgrade pymilvus  requests tqdm"
      ]
    },
    {
      "cell_type": "markdown",
      "metadata": {
        "collapsed": false,
        "id": "h1tI8IKuLM2U"
      },
      "source": [
        "> If you are using Google Colab, to enable dependencies just installed, you may need to **restart the runtime** (click on the \"Runtime\" menu at the top of the screen, and select \"Restart session\" from the dropdown menu)."
      ]
    },
    {
      "cell_type": "code",
      "source": [
        "from google.colab import drive\n",
        "drive.mount('/content/drive')"
      ],
      "metadata": {
        "id": "HYbI2HwDLfVI"
      },
      "execution_count": null,
      "outputs": []
    },
    {
      "cell_type": "markdown",
      "source": [
        "Importing libraries"
      ],
      "metadata": {
        "id": "ddrbboLjJe7Q"
      }
    },
    {
      "cell_type": "code",
      "source": [
        "import os\n",
        "import re\n",
        "import pandas as pd\n",
        "import numpy as np\n",
        "import torch\n",
        "import networkx\n",
        "from sklearn.metrics.pairwise import cosine_similarity\n",
        "from sklearn.preprocessing import StandardScaler, OneHotEncoder\n",
        "\n",
        "import networkx as nx\n",
        "import torch.nn.functional as F\n",
        "from torch_geometric.data import Data\n",
        "from torch_geometric.nn import GATConv\n",
        "from torch_geometric.utils import from_networkx\n",
        "from sklearn.model_selection import train_test_split\n",
        "from sklearn.metrics import accuracy_score, roc_auc_score"
      ],
      "metadata": {
        "id": "N92u2DIbJZwi"
      },
      "execution_count": null,
      "outputs": []
    },
    {
      "cell_type": "code",
      "source": [
        "# ---- RUN PARAMETERS FOR GRAPH ATTENTION NETWORK\n",
        "# PARAMETERS\n",
        "target_column = 'SUR_TO_COMP_FLAG'\n",
        "test_size = 0.2\n",
        "val_size = 0.1\n",
        "epochs = 80\n",
        "learning_rate = 0.01\n",
        "GAT_hidden_channels = 8\n",
        "GAT_heads = 8\n",
        "GAT_output_channels = 2 # Number of output classes in this case 2 (0 or 1 for the surrender to competitor flag)\n",
        "\n",
        "device = torch.device('cuda' if torch.cuda.is_available() else 'cpu')\n",
        "print(f\"Using device {device}\")"
      ],
      "metadata": {
        "id": "zLVJ5ZA_JrHi"
      },
      "execution_count": null,
      "outputs": []
    },
    {
      "cell_type": "code",
      "source": [
        "# Loading data\n",
        "current_data_path = \"/content/drive/..../rs_oa_4Q24.csv\"\n",
        "\n",
        "current_data_df = pd.read_csv(current_data_path)"
      ],
      "metadata": {
        "id": "6wJrQ2xDJytj"
      },
      "execution_count": null,
      "outputs": []
    },
    {
      "cell_type": "markdown",
      "source": [
        "--------------- Helper Functions for feature transformations --------"
      ],
      "metadata": {
        "id": "OPKAeCHON-ar"
      }
    },
    {
      "cell_type": "code",
      "source": [
        "\n",
        "def extract_district(district_code):\n",
        "    # Extracting substring after numeric portion\n",
        "    if isinstance(district_code, str) == False:\n",
        "        district_code = str(district_code)\n",
        "\n",
        "\n",
        "    # Removes leading numeric/hyphen pattens\n",
        "    extract_district = re.sub(r'^[\\d]+\\s*', '', district_code )\n",
        "\n",
        "    # Only keeping alphabetical characters\n",
        "    extract_district = re.sub(r'[^A-Za-z\\s]', '', str(district_code) )\n",
        "\n",
        "    words = [word for word in extract_district.split() if word]\n",
        "\n",
        "    cleaned = \" \".join(words)\n"
      ],
      "metadata": {
        "id": "EiyrpS81N5_2"
      },
      "execution_count": null,
      "outputs": []
    },
    {
      "cell_type": "code",
      "source": [
        "def sort_age_bracket(brackets):\n",
        "    if isinstance(brackets, str) != True:\n",
        "        brackets = str(brackets)\n",
        "\n",
        "    def get_lower_bound(b):\n",
        "        print(f\"Brackets {b}\")\n",
        "        if isinstance(b, int):\n",
        "            return b\n",
        "        elif b.endswith('+'):\n",
        "            return int(b[:1])\n",
        "\n",
        "        b = str(b)\n",
        "        # elif len(int(b)) == 0: return int(b)\n",
        "        return int(b.split('-')[0])\n",
        "    return sorted(brackets, key=get_lower_bound)"
      ],
      "metadata": {
        "id": "SUzgX0mIOOD7"
      },
      "execution_count": null,
      "outputs": []
    },
    {
      "cell_type": "code",
      "source": [
        "age_bracket_order = {\n",
        "    \"0\": 0,\n",
        "    \"0 - 30\": 1,\n",
        "    \"30 - 39\": 2,\n",
        "    \"40 - 49\": 3,\n",
        "    \"50 - 59\": 4,\n",
        "    \"60 - 64\": 5,\n",
        "    \"65 - 69\": 6,\n",
        "      \"70 - 79\": 7,\n",
        "      \"80 +\": 8\n",
        "\n",
        "}"
      ],
      "metadata": {
        "id": "BhKopaBXOYTJ"
      },
      "execution_count": null,
      "outputs": []
    },
    {
      "cell_type": "markdown",
      "source": [
        "----- Performing transformations --------"
      ],
      "metadata": {
        "id": "-M-LaSgEObza"
      }
    },
    {
      "cell_type": "code",
      "source": [
        "current_data_df['District_Extract'] = current_data_df['DISTRICT_CODE_NAME'].apply(extract_district)"
      ],
      "metadata": {
        "id": "-hPh4GKdOYBd"
      },
      "execution_count": null,
      "outputs": []
    },
    {
      "cell_type": "code",
      "source": [
        "current_data_df[\"age_bracket_ordinal\"] = current_data_df['AGE_BAND'].map(age_bracket_order)"
      ],
      "metadata": {
        "id": "AjZQQbBaOjfg"
      },
      "execution_count": null,
      "outputs": []
    },
    {
      "cell_type": "code",
      "source": [
        "current_data_df['martial_status_cat'] = pd.Categorical(current_data_df['MARITAL_STATUS_MR'] ).codes\n",
        "current_data_df['advisor_type_cat'] = pd.Categorical(current_data_df['ADVISOR_TYPE'] ).codes"
      ],
      "metadata": {
        "id": "qWDAESljOm0C"
      },
      "execution_count": null,
      "outputs": []
    },
    {
      "cell_type": "markdown",
      "source": [
        "-------- Setting up numeric columns and preparing labels/node features"
      ],
      "metadata": {
        "id": "rSHgZMIHOr5r"
      }
    },
    {
      "cell_type": "code",
      "source": [
        "numeric_columns = [\n",
        "     'martial_status_cat',\n",
        "     'advisor_type_cat',\n",
        "     \"age_bracket_ordinal\",\n",
        "     'AGENT_TENURE',\n",
        "     'INPLAN_ASSETS_CM',\n",
        "       'OUTPLAN_ASSETS_CM',\n",
        "       'AGT_ENG_LAST_12M',\n",
        "        'REC_ENG_LAST_3M',\n",
        "        'FLOWING_IND',\n",
        "       'TOTAL_GPS_ASSETS',\n",
        "       'GPS_FLAG'\n",
        "]"
      ],
      "metadata": {
        "id": "zatb-1cLO137"
      },
      "execution_count": null,
      "outputs": []
    },
    {
      "cell_type": "code",
      "source": [
        "labels = torch.tensor(current_data_df['SUR_TO_COMP_FLAG'].values, dtype=torch.int)\n",
        "node_features = torch.tensor(current_data_df[numeric_columns].values, dtype = torch.float)"
      ],
      "metadata": {
        "id": "70pPbL7bO4M9"
      },
      "execution_count": null,
      "outputs": []
    },
    {
      "cell_type": "code",
      "source": [
        "num_nodes = len(current_data_df)"
      ],
      "metadata": {
        "id": "oiRswJvQO6BP"
      },
      "execution_count": null,
      "outputs": []
    },
    {
      "cell_type": "markdown",
      "source": [
        "# Building Graph using networkx\n",
        ""
      ],
      "metadata": {
        "id": "RLS5KjfnPHbB"
      }
    },
    {
      "cell_type": "code",
      "source": [
        "# Build homogeneous graph using networkx\n",
        "\n",
        "G = nx.Graph()\n",
        "G.add_nodes_from(range(num_nodes))\n",
        "print(f\"Graph initialized with {G.number_of_nodes()} nodes.\")"
      ],
      "metadata": {
        "id": "qCA01Ou0PN74"
      },
      "execution_count": null,
      "outputs": []
    },
    {
      "cell_type": "code",
      "source": [
        "# Adding nodes based on relationships\n",
        "\n",
        "# Edge type 1: clients with similar advisors\n",
        "advisor_groups = current_data_df.groupby('AGENT_CODE').groups\n",
        "for group, clients in advisor_groups.items():\n",
        "    clients = clients.to_list()\n",
        "    for i in range(len(clients)):\n",
        "        for j in range(i+1, len(clients)):\n",
        "\n",
        "            # Checking if edge already exists to avoid duplicates\n",
        "            if not G.has_edge(clients[i], clients[j]):\n",
        "                G.add_edge(clients[i], clients[j], relationship='advisor_assigned')\n",
        "\n",
        "\n",
        "# Edge type 2: clients in similar districts\n",
        "district_groups = current_data_df.groupby('DISTRICT_CODE_NAME').groups\n",
        "for group, clients in advisor_groups.items():\n",
        "    clients = clients.to_list()\n",
        "    for i in range(len(clients)):\n",
        "        for j in range(i+1, len(clients)):\n",
        "\n",
        "            if not G.has_edge(clients[i], clients[j]):\n",
        "                G.add_edge(clients[i], clients[j], relationship='district')\n",
        "\n",
        "\n",
        "# Edge type 3: Clients with similar inplan assets (top 10% similarity)\n",
        "from sklearn.metrics.pairwise import cosine_similarity\n",
        "\n",
        "threshold = np.percentile(assets_sim, 90)\n",
        "assets_sim = cosine_similarity(current_data_df[ [ 'INPLAN_ASSETS_CM']])\n",
        "np.fill_diagonal(asset_sim, 0) # Ignore self-similarity\n",
        "similar_pairs = np.where(asset_sim > threshold)\n",
        "\n",
        "for i, j in zip(*similar_pairs):\n",
        "    # avoiding duplicates and self loops\n",
        "    if i < j:\n",
        "        if not G.has_edge(i, j):\n",
        "            G.add_edge(i, j, relationship='asset_similarity')"
      ],
      "metadata": {
        "id": "RDvlwyKUPRVa"
      },
      "execution_count": null,
      "outputs": []
    },
    {
      "cell_type": "code",
      "source": [
        "# print out graph information\n",
        "print(f\"Graph built with {G.number_of_nodes()} nodes and {G.number_of_edges()} edges. \\n Average node degree: { 2 * (G.number_of_edges() / G.number_of_nodes():.2f)}\")"
      ],
      "metadata": {
        "id": "1n6y0FnkPZyD"
      },
      "execution_count": null,
      "outputs": []
    },
    {
      "cell_type": "markdown",
      "source": [
        "------ Preparing Pytorch Geometric data and creating train/test/validation splits"
      ],
      "metadata": {
        "id": "Z-cZzPqePbMn"
      }
    },
    {
      "cell_type": "code",
      "source": [],
      "metadata": {
        "id": "SlCQo_UOPiVh"
      },
      "execution_count": null,
      "outputs": []
    },
    {
      "cell_type": "markdown",
      "metadata": {
        "id": "ZnvfF-3lLM2V"
      },
      "source": [
        "We will use OpenAI as the LLM in this example. You should prepare the [api key](https://platform.openai.com/docs/quickstart) `OPENAI_API_KEY` as an environment variable."
      ]
    },
    {
      "cell_type": "code",
      "execution_count": null,
      "metadata": {
        "jupyter": {
          "outputs_hidden": false
        },
        "pycharm": {
          "name": "#%%\n"
        },
        "id": "AyCU_30bLM2W"
      },
      "outputs": [],
      "source": [
        "import os\n",
        "\n",
        "os.environ[\"OPENAI_API_KEY\"] = \"sk-***********\""
      ]
    },
    {
      "cell_type": "markdown",
      "metadata": {
        "id": "UXYFwR-oLM2X"
      },
      "source": [
        "### Prepare the data\n",
        "\n",
        "We use the FAQ pages from the [Milvus Documentation 2.4.x](https://github.com/milvus-io/milvus-docs/releases/download/v2.4.6-preview/milvus_docs_2.4.x_en.zip) as the private knowledge in our RAG, which is a good data source for a simple RAG pipeline.\n",
        "\n",
        "Download the zip file and extract documents to the folder `milvus_docs`."
      ]
    },
    {
      "cell_type": "code",
      "execution_count": null,
      "metadata": {
        "vscode": {
          "languageId": "shellscript"
        },
        "id": "ed6wCxlFLM2Z"
      },
      "outputs": [],
      "source": [
        "! wget https://github.com/milvus-io/milvus-docs/releases/download/v2.4.6-preview/milvus_docs_2.4.x_en.zip\n",
        "! unzip -q milvus_docs_2.4.x_en.zip -d milvus_docs"
      ]
    },
    {
      "cell_type": "markdown",
      "metadata": {
        "id": "k3Kh_jXOLM2a"
      },
      "source": [
        "We load all markdown files from the folder `milvus_docs/en/faq`. For each document, we just simply use \"# \" to separate the content in the file, which can roughly separate the content of each main part of the markdown file."
      ]
    },
    {
      "cell_type": "code",
      "execution_count": null,
      "metadata": {
        "id": "vNNknyC7LM2b"
      },
      "outputs": [],
      "source": [
        "from glob import glob\n",
        "\n",
        "text_lines = []\n",
        "\n",
        "for file_path in glob(\"milvus_docs/en/faq/*.md\", recursive=True):\n",
        "    with open(file_path, \"r\") as file:\n",
        "        file_text = file.read()\n",
        "\n",
        "    text_lines += file_text.split(\"# \")"
      ]
    },
    {
      "cell_type": "markdown",
      "metadata": {
        "id": "OyHUbE_OLM2d"
      },
      "source": [
        "### Prepare the Embedding Model\n",
        "\n",
        "We initialize the OpenAI client to prepare the embedding model."
      ]
    },
    {
      "cell_type": "code",
      "execution_count": null,
      "metadata": {
        "id": "tqXEALzELM2d"
      },
      "outputs": [],
      "source": [
        "from openai import OpenAI\n",
        "\n",
        "openai_client = OpenAI()"
      ]
    },
    {
      "cell_type": "markdown",
      "metadata": {
        "id": "PMYwet2rLM2e"
      },
      "source": [
        "Define a function to generate text embeddings using OpenAI client. We use the [text-embedding-3-small](https://platform.openai.com/docs/guides/embeddings) model as an example."
      ]
    },
    {
      "cell_type": "code",
      "execution_count": null,
      "metadata": {
        "id": "Tm3bQqC5LM2f"
      },
      "outputs": [],
      "source": [
        "def emb_text(text):\n",
        "    return (\n",
        "        openai_client.embeddings.create(input=text, model=\"text-embedding-3-small\")\n",
        "        .data[0]\n",
        "        .embedding\n",
        "    )"
      ]
    },
    {
      "cell_type": "markdown",
      "metadata": {
        "id": "3M8CHbi2LM2f"
      },
      "source": [
        "Generate a test embedding and print its dimension and first few elements."
      ]
    },
    {
      "cell_type": "code",
      "execution_count": null,
      "metadata": {
        "id": "GUGjkbW7LM2g",
        "outputId": "b7344ec9-ba28-4290-9b04-6c84cf3528c7"
      },
      "outputs": [
        {
          "name": "stdout",
          "output_type": "stream",
          "text": [
            "1536\n",
            "[0.00988506618887186, -0.005540902726352215, 0.0068014683201909065, -0.03810417652130127, -0.018254263326525688, -0.041231658309698105, -0.007651153020560741, 0.03220026567578316, 0.01892443746328354, 0.00010708322952268645]\n"
          ]
        }
      ],
      "source": [
        "test_embedding = emb_text(\"This is a test\")\n",
        "embedding_dim = len(test_embedding)\n",
        "print(embedding_dim)\n",
        "print(test_embedding[:10])"
      ]
    },
    {
      "cell_type": "markdown",
      "metadata": {
        "id": "BHrV9ESNLM2h"
      },
      "source": [
        "## Load data into Milvus"
      ]
    },
    {
      "cell_type": "markdown",
      "metadata": {
        "id": "PXyYlj9VLM2i"
      },
      "source": [
        "### Create the Collection"
      ]
    },
    {
      "cell_type": "code",
      "execution_count": null,
      "metadata": {
        "id": "58GMspA2LM2j"
      },
      "outputs": [],
      "source": [
        "from pymilvus import MilvusClient\n",
        "\n",
        "milvus_client = MilvusClient(uri=\"./milvus_demo.db\")\n",
        "\n",
        "collection_name = \"my_rag_collection\""
      ]
    },
    {
      "cell_type": "markdown",
      "metadata": {
        "collapsed": false,
        "id": "uAULOrP7LM2j"
      },
      "source": [
        "> As for the argument of `MilvusClient`:\n",
        "> - Setting the `uri` as a local file, e.g.`./milvus.db`, is the most convenient method, as it automatically utilizes [Milvus Lite](https://milvus.io/docs/milvus_lite.md) to store all data in this file.\n",
        "> - If you have large scale of data, you can set up a more performant Milvus server on [docker or kubernetes](https://milvus.io/docs/quickstart.md). In this setup, please use the server uri, e.g.`http://localhost:19530`, as your `uri`.\n",
        "> - If you want to use [Zilliz Cloud](https://zilliz.com/cloud), the fully managed cloud service for Milvus, adjust the `uri` and `token`, which correspond to the [Public Endpoint and Api key](https://docs.zilliz.com/docs/on-zilliz-cloud-console#free-cluster-details) in Zilliz Cloud."
      ]
    },
    {
      "cell_type": "markdown",
      "metadata": {
        "id": "7EKQ61AqLM2k"
      },
      "source": [
        "Check if the collection already exists and drop it if it does."
      ]
    },
    {
      "cell_type": "code",
      "execution_count": null,
      "metadata": {
        "id": "MTkX4qkWLM2l"
      },
      "outputs": [],
      "source": [
        "if milvus_client.has_collection(collection_name):\n",
        "    milvus_client.drop_collection(collection_name)"
      ]
    },
    {
      "cell_type": "markdown",
      "metadata": {
        "id": "_tsWhR6-LM2m"
      },
      "source": [
        "Create a new collection with specified parameters.\n",
        "\n",
        "If we don't specify any field information, Milvus will automatically create a default `id` field for primary key, and a `vector` field to store the vector data. A reserved JSON field is used to store non-schema-defined fields and their values."
      ]
    },
    {
      "cell_type": "code",
      "execution_count": null,
      "metadata": {
        "id": "M_QtpWImLM2m"
      },
      "outputs": [],
      "source": [
        "milvus_client.create_collection(\n",
        "    collection_name=collection_name,\n",
        "    dimension=embedding_dim,\n",
        "    metric_type=\"IP\",  # Inner product distance\n",
        "    consistency_level=\"Strong\",  # Strong consistency level\n",
        ")"
      ]
    },
    {
      "cell_type": "markdown",
      "metadata": {
        "id": "aQEvIzOFLM2o"
      },
      "source": [
        "### Insert data\n",
        "Iterate through the text lines, create embeddings, and then insert the data into Milvus.\n",
        "\n",
        "Here is a new field `text`, which is a non-defined field in the collection schema. It will be automatically added to the reserved JSON dynamic field, which can be treated as a normal field at a high level."
      ]
    },
    {
      "cell_type": "code",
      "execution_count": null,
      "metadata": {
        "id": "kClTuqd3LM2p",
        "outputId": "b66bd37e-4a08-4721-f75f-b6df16d07a8a"
      },
      "outputs": [
        {
          "name": "stderr",
          "output_type": "stream",
          "text": [
            "Creating embeddings: 100%|██████████| 72/72 [00:27<00:00,  2.67it/s]\n"
          ]
        },
        {
          "data": {
            "text/plain": [
              "{'insert_count': 72,\n",
              " 'ids': [0, 1, 2, 3, 4, 5, 6, 7, 8, 9, 10, 11, 12, 13, 14, 15, 16, 17, 18, 19, 20, 21, 22, 23, 24, 25, 26, 27, 28, 29, 30, 31, 32, 33, 34, 35, 36, 37, 38, 39, 40, 41, 42, 43, 44, 45, 46, 47, 48, 49, 50, 51, 52, 53, 54, 55, 56, 57, 58, 59, 60, 61, 62, 63, 64, 65, 66, 67, 68, 69, 70, 71],\n",
              " 'cost': 0}"
            ]
          },
          "execution_count": 12,
          "metadata": {},
          "output_type": "execute_result"
        }
      ],
      "source": [
        "from tqdm import tqdm\n",
        "\n",
        "data = []\n",
        "\n",
        "for i, line in enumerate(tqdm(text_lines, desc=\"Creating embeddings\")):\n",
        "    data.append({\"id\": i, \"vector\": emb_text(line), \"text\": line})\n",
        "\n",
        "milvus_client.insert(collection_name=collection_name, data=data)"
      ]
    },
    {
      "cell_type": "markdown",
      "metadata": {
        "id": "AOW7zBReLM2q"
      },
      "source": [
        "## Build RAG\n",
        "\n",
        "### Retrieve data for a query\n",
        "\n",
        "Let's specify a frequent question about Milvus."
      ]
    },
    {
      "cell_type": "code",
      "execution_count": null,
      "metadata": {
        "id": "UVDccaLhLM2r"
      },
      "outputs": [],
      "source": [
        "question = \"How is data stored in milvus?\""
      ]
    },
    {
      "cell_type": "markdown",
      "metadata": {
        "id": "ql1Zqbc8LM2s"
      },
      "source": [
        "Search for the question in the collection and retrieve the semantic top-3 matches."
      ]
    },
    {
      "cell_type": "code",
      "execution_count": null,
      "metadata": {
        "id": "A290rUTwLM2s"
      },
      "outputs": [],
      "source": [
        "search_res = milvus_client.search(\n",
        "    collection_name=collection_name,\n",
        "    data=[\n",
        "        emb_text(question)\n",
        "    ],  # Use the `emb_text` function to convert the question to an embedding vector\n",
        "    limit=3,  # Return top 3 results\n",
        "    search_params={\"metric_type\": \"IP\", \"params\": {}},  # Inner product distance\n",
        "    output_fields=[\"text\"],  # Return the text field\n",
        ")"
      ]
    },
    {
      "cell_type": "markdown",
      "metadata": {
        "id": "fkuRewbbLM2t"
      },
      "source": [
        "Let's take a look at the search results of the query\n"
      ]
    },
    {
      "cell_type": "code",
      "execution_count": null,
      "metadata": {
        "id": "Vzm_V75TLM2t",
        "outputId": "c21365d8-d89c-4b76-df1c-300d3e725f2d"
      },
      "outputs": [
        {
          "name": "stdout",
          "output_type": "stream",
          "text": [
            "[\n",
            "    [\n",
            "        \" Where does Milvus store data?\\n\\nMilvus deals with two types of data, inserted data and metadata. \\n\\nInserted data, including vector data, scalar data, and collection-specific schema, are stored in persistent storage as incremental log. Milvus supports multiple object storage backends, including [MinIO](https://min.io/), [AWS S3](https://aws.amazon.com/s3/?nc1=h_ls), [Google Cloud Storage](https://cloud.google.com/storage?hl=en#object-storage-for-companies-of-all-sizes) (GCS), [Azure Blob Storage](https://azure.microsoft.com/en-us/products/storage/blobs), [Alibaba Cloud OSS](https://www.alibabacloud.com/product/object-storage-service), and [Tencent Cloud Object Storage](https://www.tencentcloud.com/products/cos) (COS).\\n\\nMetadata are generated within Milvus. Each Milvus module has its own metadata that are stored in etcd.\\n\\n###\",\n",
            "        0.7883545756340027\n",
            "    ],\n",
            "    [\n",
            "        \"How does Milvus handle vector data types and precision?\\n\\nMilvus supports Binary, Float32, Float16, and BFloat16 vector types.\\n\\n- Binary vectors: Store binary data as sequences of 0s and 1s, used in image processing and information retrieval.\\n- Float32 vectors: Default storage with a precision of about 7 decimal digits. Even Float64 values are stored with Float32 precision, leading to potential precision loss upon retrieval.\\n- Float16 and BFloat16 vectors: Offer reduced precision and memory usage. Float16 is suitable for applications with limited bandwidth and storage, while BFloat16 balances range and efficiency, commonly used in deep learning to reduce computational requirements without significantly impacting accuracy.\\n\\n###\",\n",
            "        0.6757288575172424\n",
            "    ],\n",
            "    [\n",
            "        \"How much does Milvus cost?\\n\\nMilvus is a 100% free open-source project.\\n\\nPlease adhere to [Apache License 2.0](http://www.apache.org/licenses/LICENSE-2.0) when using Milvus for production or distribution purposes.\\n\\nZilliz, the company behind Milvus, also offers a fully managed cloud version of the platform for those that don't want to build and maintain their own distributed instance. [Zilliz Cloud](https://zilliz.com/cloud) automatically maintains data reliability and allows users to pay only for what they use.\\n\\n###\",\n",
            "        0.6421123147010803\n",
            "    ]\n",
            "]\n"
          ]
        }
      ],
      "source": [
        "import json\n",
        "\n",
        "retrieved_lines_with_distances = [\n",
        "    (res[\"entity\"][\"text\"], res[\"distance\"]) for res in search_res[0]\n",
        "]\n",
        "print(json.dumps(retrieved_lines_with_distances, indent=4))"
      ]
    },
    {
      "cell_type": "markdown",
      "metadata": {
        "id": "Hn4BuELILM2v"
      },
      "source": [
        "### Use LLM to get a RAG response\n",
        "\n",
        "Convert the retrieved documents into a string format."
      ]
    },
    {
      "cell_type": "code",
      "execution_count": null,
      "metadata": {
        "id": "7FaxKmumLM2x"
      },
      "outputs": [],
      "source": [
        "context = \"\\n\".join(\n",
        "    [line_with_distance[0] for line_with_distance in retrieved_lines_with_distances]\n",
        ")"
      ]
    },
    {
      "cell_type": "markdown",
      "metadata": {
        "id": "jWBYGDu_LM2y"
      },
      "source": [
        "Define system and user prompts for the Lanage Model. This prompt is assembled with the retrieved documents from Milvus."
      ]
    },
    {
      "cell_type": "code",
      "execution_count": null,
      "metadata": {
        "id": "9HYJoTEQLM2z"
      },
      "outputs": [],
      "source": [
        "SYSTEM_PROMPT = \"\"\"\n",
        "Human: You are an AI assistant. You are able to find answers to the questions from the contextual passage snippets provided.\n",
        "\"\"\"\n",
        "USER_PROMPT = f\"\"\"\n",
        "Use the following pieces of information enclosed in <context> tags to provide an answer to the question enclosed in <question> tags.\n",
        "<context>\n",
        "{context}\n",
        "</context>\n",
        "<question>\n",
        "{question}\n",
        "</question>\n",
        "\"\"\""
      ]
    },
    {
      "cell_type": "markdown",
      "metadata": {
        "id": "Bho8IluTLM20"
      },
      "source": [
        "Use OpenAI ChatGPT to generate a response based on the prompts."
      ]
    },
    {
      "cell_type": "code",
      "execution_count": null,
      "metadata": {
        "pycharm": {
          "name": "#%%\n"
        },
        "id": "x0-BZfYqLM21",
        "outputId": "030fa72a-1c7b-431a-9480-bff059a1c639"
      },
      "outputs": [
        {
          "name": "stdout",
          "output_type": "stream",
          "text": [
            "Milvus stores data in persistent storage as incremental logs, including inserted data (vector data, scalar data, and collection-specific schema) and metadata. Inserted data is stored in various object storage backends like MinIO, AWS S3, Google Cloud Storage, Azure Blob Storage, Alibaba Cloud OSS, and Tencent Cloud Object Storage. Metadata generated within Milvus is stored in etcd.\n"
          ]
        }
      ],
      "source": [
        "response = openai_client.chat.completions.create(\n",
        "    model=\"gpt-3.5-turbo\",\n",
        "    messages=[\n",
        "        {\"role\": \"system\", \"content\": SYSTEM_PROMPT},\n",
        "        {\"role\": \"user\", \"content\": USER_PROMPT},\n",
        "    ],\n",
        ")\n",
        "print(response.choices[0].message.content)"
      ]
    },
    {
      "cell_type": "markdown",
      "metadata": {
        "id": "qSsc7JoTLM22"
      },
      "source": [
        "## Quick Deploy\n",
        "\n",
        "To learn about how to start an online demo with this tutorial, please refer to [the example application](https://github.com/milvus-io/bootcamp/tree/master/bootcamp/tutorials/quickstart/apps/rag_search_with_milvus)."
      ]
    },
    {
      "cell_type": "markdown",
      "metadata": {
        "id": "p-UIicqPLM24"
      },
      "source": []
    }
  ],
  "metadata": {
    "kernelspec": {
      "display_name": "Python 3 (ipykernel)",
      "language": "python",
      "name": "python3"
    },
    "language_info": {
      "codemirror_mode": {
        "name": "ipython",
        "version": 3
      },
      "file_extension": ".py",
      "mimetype": "text/x-python",
      "name": "python",
      "nbconvert_exporter": "python",
      "pygments_lexer": "ipython3",
      "version": "3.8.19"
    },
    "colab": {
      "provenance": [],
      "include_colab_link": true
    }
  },
  "nbformat": 4,
  "nbformat_minor": 0
}